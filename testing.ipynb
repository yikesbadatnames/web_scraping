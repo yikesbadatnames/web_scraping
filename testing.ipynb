{
 "cells": [
  {
   "cell_type": "code",
   "execution_count": null,
   "metadata": {},
   "outputs": [],
   "source": [
    "from lib2to3.pgen2 import driver\n",
    "from bs4 import BeautifulSoup\n",
    "from selenium import webdriver\n",
    "from selenium.webdriver.chrome.service import Service\n",
    "from webdriver_manager.chrome import ChromeDriverManager\n",
    "#for testing purposes\n",
    "from selenium.webdriver.chrome.options import Options\n",
    "import pandas as pd\n",
    "from lxml import etree\n",
    "import time\n",
    "\n",
    "from config import user_name, password,chromedriver_location\n"
   ]
  },
  {
   "cell_type": "code",
   "execution_count": null,
   "metadata": {},
   "outputs": [],
   "source": [
    "# For testing, keeping browser open. \n",
    "chrome_options = Options()\n",
    "chrome_options.add_experimental_option(\"detach\", True)\n",
    "\n",
    "\n",
    "print(chromedriver_location)\n",
    "\n",
    "\n",
    "driver = webdriver.Chrome(chrome_options = chrome_options, \n",
    "                          service=Service(ChromeDriverManager().install()))\n",
    "\n",
    "driver.get('https://linkedin.com/uas/login')\n",
    "\n",
    "time.sleep(5) #waiting for the page to load\n",
    "\n",
    "username_input = driver.find_element_by_id('username')\n",
    "username_input.send_keys(user_name)\n",
    "\n",
    "password_input = driver.find_element_by_id('password')\n",
    "password_input.send_keys(password)\n",
    "\n",
    "#click sumbit\n",
    "driver.find_element_by_xpath('//*[@id=\"organic-div\"]/form/div[3]/button').click()"
   ]
  },
  {
   "cell_type": "code",
   "execution_count": null,
   "metadata": {},
   "outputs": [],
   "source": [
    "# Going to Jobs URL \n",
    "jobs_url = 'https://www.linkedin.com/jobs/search/?distance=25.0&f_WT=2&geoId=103644278&keywords=data%20analyst'\n",
    "driver.get(jobs_url)\n",
    "\n",
    "#html analysis\n",
    "html = driver.page_source\n",
    "soup = BeautifulSoup(html, 'lxml')\n",
    "#using xpath to find the element. \n",
    "dom = etree.HTML(soup)\n"
   ]
  }
 ],
 "metadata": {
  "language_info": {
   "name": "python"
  },
  "orig_nbformat": 4
 },
 "nbformat": 4,
 "nbformat_minor": 2
}
