{
 "cells": [
  {
   "cell_type": "code",
   "execution_count": 7,
   "metadata": {},
   "outputs": [],
   "source": [
    "from lib2to3.pgen2 import driver\n",
    "from bs4 import BeautifulSoup\n",
    "from selenium import webdriver\n",
    "from selenium.webdriver.chrome.service import Service\n",
    "from selenium.webdriver.common.by import By\n",
    "from selenium.webdriver.common.action_chains import ActionChains\n",
    "from webdriver_manager.chrome import ChromeDriverManager\n",
    "import requests\n",
    "#for testing purposes\n",
    "from selenium.webdriver.chrome.options import Options\n",
    "import pandas as pd\n",
    "from lxml import etree\n",
    "import time\n",
    "from config import user_name, password,chromedriver_location\n"
   ]
  },
  {
   "cell_type": "code",
   "execution_count": 8,
   "metadata": {},
   "outputs": [
    {
     "name": "stderr",
     "output_type": "stream",
     "text": [
      "[WDM] - \n",
      "\n",
      "[WDM] - ====== WebDriver manager ======\n",
      "[WDM] - Current google-chrome version is 102.0.5005\n",
      "[WDM] - Get LATEST driver version for 102.0.5005\n"
     ]
    },
    {
     "name": "stdout",
     "output_type": "stream",
     "text": [
      "/Users/griffinmccalla/Downloads/chromedriver.exe\n"
     ]
    },
    {
     "name": "stderr",
     "output_type": "stream",
     "text": [
      "[WDM] - Driver [/Users/griffinmccalla/.wdm/drivers/chromedriver/mac64/102.0.5005.61/chromedriver] found in cache\n",
      "/var/folders/5v/rb39v1b169d2n5b_qrzdkyy40000gn/T/ipykernel_64171/3175362076.py:9: DeprecationWarning: use options instead of chrome_options\n",
      "  driver = webdriver.Chrome(chrome_options = chrome_options,\n",
      "/var/folders/5v/rb39v1b169d2n5b_qrzdkyy40000gn/T/ipykernel_64171/3175362076.py:16: DeprecationWarning: find_element_by_* commands are deprecated. Please use find_element() instead\n",
      "  username_input = driver.find_element_by_id('username')\n",
      "/var/folders/5v/rb39v1b169d2n5b_qrzdkyy40000gn/T/ipykernel_64171/3175362076.py:19: DeprecationWarning: find_element_by_* commands are deprecated. Please use find_element() instead\n",
      "  password_input = driver.find_element_by_id('password')\n",
      "/var/folders/5v/rb39v1b169d2n5b_qrzdkyy40000gn/T/ipykernel_64171/3175362076.py:23: DeprecationWarning: find_element_by_* commands are deprecated. Please use find_element() instead\n",
      "  driver.find_element_by_xpath('//*[@id=\"organic-div\"]/form/div[3]/button').click()\n"
     ]
    }
   ],
   "source": [
    "# For testing, keeping browser open. \n",
    "chrome_options = Options()\n",
    "chrome_options.add_experimental_option(\"detach\", True)\n",
    "\n",
    "\n",
    "print(chromedriver_location)\n",
    "\n",
    "\n",
    "driver = webdriver.Chrome(chrome_options = chrome_options, \n",
    "                          service=Service(ChromeDriverManager().install()))\n",
    "\n",
    "driver.get('https://linkedin.com/uas/login')\n",
    "\n",
    "time.sleep(5) #waiting for the page to load\n",
    "\n",
    "username_input = driver.find_element_by_id('username')\n",
    "username_input.send_keys(user_name)\n",
    "\n",
    "password_input = driver.find_element_by_id('password')\n",
    "password_input.send_keys(password)\n",
    "\n",
    "#click sumbit\n",
    "driver.find_element_by_xpath('//*[@id=\"organic-div\"]/form/div[3]/button').click()"
   ]
  },
  {
   "cell_type": "code",
   "execution_count": 20,
   "metadata": {},
   "outputs": [],
   "source": [
    "# Going to Jobs URL \n",
    "jobs_url = 'https://www.linkedin.com/jobs/search/?distance=25.0&f_WT=2&geoId=103644278&keywords=data%20analyst'\n",
    "\n",
    "driver.get(jobs_url)\n",
    "\n",
    "#immeidately scroll to bottom of page for all elements\n",
    "bottom_of_page = driver.find_element(By.TAG_NAME, 'footer')\n",
    "ActionChains(driver)\\\n",
    "        .move_to_element(bottom_of_page)\\\n",
    "        .perform()\n",
    "\n",
    "html = driver.page_source\n",
    "soup = BeautifulSoup(html, 'html.parser')\n"
   ]
  },
  {
   "cell_type": "markdown",
   "metadata": {},
   "source": []
  },
  {
   "cell_type": "markdown",
   "metadata": {},
   "source": [
    "# html parsing"
   ]
  },
  {
   "cell_type": "code",
   "execution_count": 19,
   "metadata": {},
   "outputs": [
    {
     "data": {
      "text/plain": [
       "['\\n              Procore Technologies\\n            ',\n",
       " '\\n              RamQuest, Inc.\\n            ',\n",
       " '\\n              Coursedog\\n            ',\n",
       " '\\n              Edward Jones\\n            ',\n",
       " '\\n              Kesar Web\\n            ',\n",
       " '\\n              Motionworks International\\n            ',\n",
       " '\\n              AFL\\n            ',\n",
       " '\\n              Better Collective\\n            ',\n",
       " '\\n              Alegeus\\n            ']"
      ]
     },
     "execution_count": 19,
     "metadata": {},
     "output_type": "execute_result"
    }
   ],
   "source": [
    "job_titles = soup.findAll('a', class_='disabled ember-view job-card-container__link job-card-list__title')\n",
    "titles_list = [x.get_text() for x in job_titles]\n",
    "\n",
    "# job_titles = soup.findAll('div', class_='''job-card-container relative job-card-list job-card-container--clickable job-card-list--underline-title-on-hover  jobs-search-two-pane__job-card-container--viewport-tracking-7''')\n",
    "# titles_list = [x.get_text() for x in job_titles]\n",
    "\n",
    "job_benefits = soup.findAll('li', class_='job-card-container__metadata-item')\n",
    "benefits_list = [x.get_text() for x in job_benefits]\n",
    "# driver.execute_script(\"window.scrollTo(0,document.body.scrollHeight)\")\n",
    "\n",
    "\n",
    "\n",
    "job_company = soup.findAll('a', class_='job-card-container__link job-card-container__company-name ember-view')\n",
    "company_list = [x.get_text() for x in job_company]\n",
    "\n",
    "# so now we have all the items from the left side bar\n",
    "# now for each one of these, we need to click into "
   ]
  },
  {
   "cell_type": "code",
   "execution_count": 23,
   "metadata": {},
   "outputs": [
    {
     "data": {
      "text/plain": [
       "<div class=\"jobs-box__html-content jobs-description-content__text t-14 t-normal jobs-description-content__text--stretch\" id=\"job-details\" tabindex=\"-1\">\n",
       "<!-- -->\n",
       "<!-- -->\n",
       "<!-- --> <span>\n",
       "<strong><!-- -->Job Description<!-- --><br/><br/></strong><!-- -->We're looking for a<span class=\"white-space-pre\"> </span><strong><!-- -->Data Quality Analyst<!-- --></strong><span class=\"white-space-pre\"> </span>to join Procore's Revenue Data and Insights team. In this role, you'll be accountable for maintaining and executing on the Data Management and Governance strategy for Procore's Revenue organization. You will play a crucial role by helping to ensure quality, compliance, clarity, and understanding of data used by members across Procore's Revenue functions.<!-- --><br/><br/><!-- -->To be an ideal candidate for this position, you must love to solve complex problems, have a passion for data in support of maximizing company value, and are comfortable working with leaders and stakeholders of all levels. In this role, you will be highly collaborative, working cross-functionally within the Revenue Operations team and across Sales, Marketing, Customer, IT, Finance, Corporate Strategy, etc., to identify opportunities for improvement, efficiency, and scale.<!-- --><br/><br/><!-- -->This position will report to our Senior Manager of Data Quality and has the opportunity to work remotely from any North American location or be based in one of our U.S. offices.<!-- --><br/><br/><strong><!-- -->What you’ll do:<!-- --><br/></strong> <ul><li><!-- -->Work cross-functionality to define data quality requirements<!-- --></li><li><!-- -->Conduct regular audits of data management practices to identify areas of improvement<!-- --></li><li><!-- -->Support efforts to integrate new data into Revenue motions, processes, and data flows. This may include initiatives relating to new products, systems, M&amp;A, etc.<!-- --></li><li><!-- -->Partner with Revenue stakeholders to develop and promote data quality tools, controls, and overall quality awareness; help define overall Data Quality KPIs, measurements, and reporting standards<!-- --></li><li><!-- -->Support Procore's Enterprise Data Governance program which focuses on corporate-wide data improvement<!-- --></li><li><!-- -->Develop standards and best practice documentation relating to data management workflows<!-- --><br/><br/></li></ul>\n",
       "<strong><!-- -->What we’re looking for:<!-- --><br/></strong> <ul><li><!-- -->2+ years of experience with managing and executing data quality and/or governance activities in a CRM environment (eg. Salesforce)<!-- --></li><li><!-- -->2+ years of Data Quality and/or Data Governance experience. Certifications in data quality management and governance are preferred.<!-- --></li><li><!-- -->Excellent organization and time management skills<!-- --></li><li><!-- -->Strong written and verbal communication skills<!-- --></li><li><!-- -->Strong analytical skills and the ability to synthesize information across a broad ecosystem to diagnose problems and recommend solutions<!-- --></li><li><!-- -->Strong understanding of data workflows and ability to recognize data quality gaps<!-- --></li><li><!-- -->Some experience working with SQL queries and non-structured data<!-- --></li><li><!-- -->Some experience with Data Quality, Master Data (MDM), and Data Governance Platforms<!-- --><br/><br/></li></ul>\n",
       "<strong><!-- -->Additional Information<!-- --><br/><br/></strong><!-- -->If you'd like to stay in touch and be the first to hear about new roles at Procore, join our Talent Community.<!-- --><br/><br/><strong><!-- -->About Us<!-- --><br/><br/></strong><!-- -->Procore Technologies is building the software that builds the world. We provide cloud-based construction management software that helps clients more efficiently build skyscrapers, hospitals, retail centers, airports, housing complexes, and more. At Procore, we have worked hard to create and maintain a culture where you can own your work and are encouraged and given resources to try new ideas. Check us out on Glassdoor to see what others are saying about working at Procore.<!-- --><br/><br/><!-- -->We are an equal opportunity employer and welcome builders of all backgrounds. We thrive in a diverse, dynamic, and inclusive environment. We do not tolerate discrimination against employees on the basis of age, color, disability, gender, gender identity or expression, marital status, national origin, political affiliation, race, religion, sexual orientation, veteran status, or any other classification protected by law.<!-- --><br/><br/><strong><!-- -->Perks &amp; Benefits<!-- --><br/><br/></strong><!-- -->You are a person with dreams, goals, and ambitions—both personally and professionally. That's why we believe in providing benefits that not only match our Procore values (Openness, Optimism, and Ownership) but enhance the lives of our team members. Here are just a few of our benefit offerings: generous paid vacation, employee stock purchase plan, enrichment and development programs, and friends and family events.<!-- -->\n",
       "<!-- --> </span>\n",
       "</div>"
      ]
     },
     "execution_count": 23,
     "metadata": {},
     "output_type": "execute_result"
    }
   ],
   "source": [
    "job_desc = soup.find('div', id= 'job-details')\n",
    "job_desc"
   ]
  },
  {
   "cell_type": "markdown",
   "metadata": {},
   "source": [
    "# for loop clicking multiple job-car-container--clickable ' s\n",
    "\n",
    "1) click onto next job title\n",
    "   * don't forget about findnext()\n",
    "2) grab the job description"
   ]
  },
  {
   "cell_type": "markdown",
   "metadata": {},
   "source": []
  }
 ],
 "metadata": {
  "interpreter": {
   "hash": "91a0f654bff51de804f96ee8891fb4d88777439be28e86f062bfd8f99651ac63"
  },
  "kernelspec": {
   "display_name": "Python 3.8.8 ('PythonData')",
   "language": "python",
   "name": "python3"
  },
  "language_info": {
   "codemirror_mode": {
    "name": "ipython",
    "version": 3
   },
   "file_extension": ".py",
   "mimetype": "text/x-python",
   "name": "python",
   "nbconvert_exporter": "python",
   "pygments_lexer": "ipython3",
   "version": "3.8.8"
  },
  "orig_nbformat": 4
 },
 "nbformat": 4,
 "nbformat_minor": 2
}
