{
 "cells": [
  {
   "cell_type": "code",
   "execution_count": 1,
   "metadata": {},
   "outputs": [],
   "source": [
    "from lib2to3.pgen2 import driver\n",
    "from bs4 import BeautifulSoup\n",
    "from selenium import webdriver\n",
    "from selenium.webdriver.chrome.service import Service\n",
    "from webdriver_manager.chrome import ChromeDriverManager\n",
    "#for testing purposes\n",
    "from selenium.webdriver.chrome.options import Options\n",
    "import pandas as pd\n",
    "from lxml import etree\n",
    "import time\n",
    "from config import user_name, password,chromedriver_location\n"
   ]
  },
  {
   "cell_type": "code",
   "execution_count": 2,
   "metadata": {},
   "outputs": [
    {
     "name": "stderr",
     "output_type": "stream",
     "text": [
      "[WDM] - \n",
      "\n",
      "[WDM] - ====== WebDriver manager ======\n"
     ]
    },
    {
     "name": "stdout",
     "output_type": "stream",
     "text": [
      "/Users/griffinmccalla/Downloads/chromedriver.exe\n"
     ]
    },
    {
     "name": "stderr",
     "output_type": "stream",
     "text": [
      "[WDM] - Current google-chrome version is 102.0.5005\n",
      "[WDM] - Get LATEST driver version for 102.0.5005\n",
      "[WDM] - Driver [/Users/griffinmccalla/.wdm/drivers/chromedriver/mac64/102.0.5005.61/chromedriver] found in cache\n",
      "/var/folders/5v/rb39v1b169d2n5b_qrzdkyy40000gn/T/ipykernel_11404/3175362076.py:9: DeprecationWarning: use options instead of chrome_options\n",
      "  driver = webdriver.Chrome(chrome_options = chrome_options,\n",
      "/var/folders/5v/rb39v1b169d2n5b_qrzdkyy40000gn/T/ipykernel_11404/3175362076.py:16: DeprecationWarning: find_element_by_* commands are deprecated. Please use find_element() instead\n",
      "  username_input = driver.find_element_by_id('username')\n",
      "/var/folders/5v/rb39v1b169d2n5b_qrzdkyy40000gn/T/ipykernel_11404/3175362076.py:19: DeprecationWarning: find_element_by_* commands are deprecated. Please use find_element() instead\n",
      "  password_input = driver.find_element_by_id('password')\n",
      "/var/folders/5v/rb39v1b169d2n5b_qrzdkyy40000gn/T/ipykernel_11404/3175362076.py:23: DeprecationWarning: find_element_by_* commands are deprecated. Please use find_element() instead\n",
      "  driver.find_element_by_xpath('//*[@id=\"organic-div\"]/form/div[3]/button').click()\n"
     ]
    }
   ],
   "source": [
    "# For testing, keeping browser open. \n",
    "chrome_options = Options()\n",
    "chrome_options.add_experimental_option(\"detach\", True)\n",
    "\n",
    "\n",
    "print(chromedriver_location)\n",
    "\n",
    "\n",
    "driver = webdriver.Chrome(chrome_options = chrome_options, \n",
    "                          service=Service(ChromeDriverManager().install()))\n",
    "\n",
    "driver.get('https://linkedin.com/uas/login')\n",
    "\n",
    "time.sleep(5) #waiting for the page to load\n",
    "\n",
    "username_input = driver.find_element_by_id('username')\n",
    "username_input.send_keys(user_name)\n",
    "\n",
    "password_input = driver.find_element_by_id('password')\n",
    "password_input.send_keys(password)\n",
    "\n",
    "#click sumbit\n",
    "driver.find_element_by_xpath('//*[@id=\"organic-div\"]/form/div[3]/button').click()"
   ]
  },
  {
   "cell_type": "code",
   "execution_count": 3,
   "metadata": {},
   "outputs": [],
   "source": [
    "# Going to Jobs URL \n",
    "jobs_url = 'https://www.linkedin.com/jobs/search/?distance=25.0&f_WT=2&geoId=103644278&keywords=data%20analyst'\n",
    "driver.get(jobs_url)\n",
    "\n",
    "#html analysis\n",
    "html = driver.page_source\n",
    "soup = BeautifulSoup(html, 'lxml')\n"
   ]
  },
  {
   "cell_type": "code",
   "execution_count": 9,
   "metadata": {},
   "outputs": [
    {
     "data": {
      "text/plain": [
       "<a class=\"disabled ember-view job-card-container__link job-card-list__title\" data-control-id=\"jowRJIIwF4z0PHRMglG9kw==\" href=\"/jobs/view/3113692646/?refId=YF%2FmunQhFF0fDeitipzAhg%3D%3D&amp;trackingId=jowRJIIwF4z0PHRMglG9kw%3D%3D&amp;trk=flagship3_search_srp_jobs\" id=\"ember47\" tabindex=\"0\">\n",
       "              Enterprise Data Management (EDM) Data Analyst\n",
       "            </a>"
      ]
     },
     "execution_count": 9,
     "metadata": {},
     "output_type": "execute_result"
    }
   ],
   "source": [
    "soup.find('a', class_='disabled ember-view job-card-container__link job-card-list__title')"
   ]
  },
  {
   "cell_type": "code",
   "execution_count": null,
   "metadata": {},
   "outputs": [],
   "source": []
  }
 ],
 "metadata": {
  "interpreter": {
   "hash": "91a0f654bff51de804f96ee8891fb4d88777439be28e86f062bfd8f99651ac63"
  },
  "kernelspec": {
   "display_name": "Python 3.8.8 ('PythonData')",
   "language": "python",
   "name": "python3"
  },
  "language_info": {
   "codemirror_mode": {
    "name": "ipython",
    "version": 3
   },
   "file_extension": ".py",
   "mimetype": "text/x-python",
   "name": "python",
   "nbconvert_exporter": "python",
   "pygments_lexer": "ipython3",
   "version": "3.8.8"
  },
  "orig_nbformat": 4
 },
 "nbformat": 4,
 "nbformat_minor": 2
}
